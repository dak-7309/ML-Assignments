{
  "nbformat": 4,
  "nbformat_minor": 0,
  "metadata": {
    "colab": {
      "name": "MLA2_q4.ipynb",
      "provenance": [],
      "collapsed_sections": []
    },
    "kernelspec": {
      "name": "python3",
      "display_name": "Python 3"
    },
    "accelerator": "GPU"
  },
  "cells": [
    {
      "cell_type": "code",
      "metadata": {
        "id": "Re7NdLSq0sPI"
      },
      "source": [
        "from google.colab import drive\n",
        "drive.mount('/content/drive/')"
      ],
      "execution_count": null,
      "outputs": []
    },
    {
      "cell_type": "code",
      "metadata": {
        "id": "nqySDno91CG1"
      },
      "source": [
        "cd /content/drive/MyDrive/ML\\ assignment\\ 2"
      ],
      "execution_count": null,
      "outputs": []
    },
    {
      "cell_type": "code",
      "metadata": {
        "id": "6bYj78Im1EXT"
      },
      "source": [
        "from copy import *\n",
        "from math import *\n",
        "import h5py\n",
        "import numpy as np\n",
        "import pandas as pd\n",
        "from sklearn.model_selection import train_test_split\n",
        "from sklearn.preprocessing import StandardScaler\n",
        "from sklearn import metrics \n",
        "\n",
        "\n"
      ],
      "execution_count": null,
      "outputs": []
    },
    {
      "cell_type": "code",
      "metadata": {
        "id": "OR_y7Ty91IRM"
      },
      "source": [
        "\n",
        "# gnb function\n",
        "def gnb_(Xtrain,Xtest,Ytrain,Ytest,LABEL_NUM):\n",
        "\n",
        "    class_labels={}\n",
        "    for i in range(LABEL_NUM):\n",
        "        class_labels[i]=np.array([])\n",
        "\n",
        "    for i in range(len(Xtrain)):\n",
        "        class_labels[int(Ytrain[i][0])]=np.append(class_labels[int(Ytrain[i][0])], Xtrain[i])\n",
        "\n",
        "    mean=np.array([])\n",
        "    for i in range(len(class_labels)):\n",
        "        class_labels[i]=class_labels[i].reshape(len(class_labels[i])//len(Xtrain[0]),len(Xtrain[0]))\n",
        "\n",
        "        bb=len(class_labels[i])\n",
        "        temp=class_labels[i].sum(axis=0)\n",
        "        temp=temp/bb\n",
        "        mean=np.append(mean,[temp])\n",
        "\n",
        "    mean=mean.reshape(len(mean)//len(Xtrain[0]),len(Xtrain[0]))\n",
        "    # calculating mean matrix for the whole dataset, for every class label\n",
        "\n",
        "    DAD_std_dev=np.array([])\n",
        "    for i in range(len(class_labels)):\n",
        "        bb=len(class_labels[i])\n",
        "        std_dev=np.array([])\n",
        "\n",
        "        for j in range(len(Xtrain[0])):\n",
        "            std_dev=np.append(std_dev,[0])\n",
        "\n",
        "        std_dev=std_dev.reshape(len(Xtrain[0]),1)\n",
        "        [r,c]=class_labels[i].shape\n",
        "\n",
        "        for k in range(r):\n",
        "            for l in range(c):\n",
        "                std_dev[l][0]+=((class_labels[i])[k,l]-mean[i,l])**2\n",
        "\n",
        "        std_dev=std_dev.reshape(1,len(Xtrain[0]))\n",
        "        std_dev=std_dev/(bb-1)\n",
        "        DAD_std_dev=np.append(DAD_std_dev,std_dev)\n",
        "\n",
        "    DAD_std_dev=DAD_std_dev.reshape(len(DAD_std_dev)//len(Xtrain[0]),len(Xtrain[0]))\n",
        "    # calculating std matrix matrix for the whole dataset, for every class label\n",
        "    \n",
        "\n",
        "    labels_prob=[0]*LABEL_NUM\n",
        "    for i in range(len(Ytrain)):\n",
        "        labels_prob[int(Ytrain[i][0])]+=1\n",
        "\n",
        "    for i in range(len(labels_prob)):\n",
        "        labels_prob[i]=labels_prob[i]/len(Ytrain)\n",
        "    # class label probabilities\n",
        "\n",
        "\n",
        "    Y_pred=np.array([])\n",
        "    for i in range(len(Xtest)):\n",
        "        probs_f=np.array([])\n",
        "\n",
        "        for j in range(len(Xtrain[0])*LABEL_NUM):\n",
        "            probs_f=np.append(probs_f,[0])\n",
        "\n",
        "        probs_f=probs_f.reshape(LABEL_NUM,len(Xtrain[0]))\n",
        "\n",
        "        # gnb function\n",
        "        for j in range(LABEL_NUM):\n",
        "            for k in range(len(Xtrain[0])):\n",
        "                # if prob!=0 implement function\n",
        "                if DAD_std_dev[j,k]!=0:\n",
        "                    val_left=1/((2*pi*DAD_std_dev[j,k])**0.5)\n",
        "                    tt=-(Xtest[i,k]-mean[j,k])**2\n",
        "                    bb=tt/(2*DAD_std_dev[j,k])\n",
        "                    val_right=exp(bb)\n",
        "                    answer=val_left*val_right\n",
        "                    probs_f[j,k]=answer\n",
        "            # else ignore column\n",
        "                else:\n",
        "                    probs_f[j,k]=0\n",
        "\n",
        "\n",
        "        LL=[0]*LABEL_NUM\n",
        "        for j in range(LABEL_NUM):\n",
        "            SUM=0\n",
        "            for k in range(len(Xtrain[0])):\n",
        "                if probs_f[j,k]!=0:\n",
        "                    # take sum of log values rather than product, it will avoid underflow\n",
        "                    SUM+=log(probs_f[j,k],LABEL_NUM)\n",
        "            LL[j]=log(labels_prob[j],LABEL_NUM)+SUM\n",
        "            #sum class label prob too\n",
        "        ind=LL.index(max(LL))\n",
        "        Y_pred=np.append(Y_pred,ind)\n",
        "\n",
        "    # calculate accuracy of model\n",
        "    Y_pred=Y_pred.reshape(len(Y_pred),1)\n",
        "    print(\"Accuracy for GNB= \",metrics.accuracy_score(Ytest,Y_pred)*100)"
      ],
      "execution_count": null,
      "outputs": []
    },
    {
      "cell_type": "code",
      "metadata": {
        "colab": {
          "base_uri": "https://localhost:8080/"
        },
        "id": "yuGMtopT1O07",
        "outputId": "b0fe2a0b-fc9c-475e-e51d-a08567b849c9"
      },
      "source": [
        "\n",
        "# DATASET A reading file\n",
        "hf=h5py.File('part_A_train.h5','r')\n",
        "X=np.array(hf['X'])\n",
        "Y=np.array(hf['Y'])\n",
        "\n",
        "[r,c]=Y.shape\n",
        "yy=np.array([])\n",
        "for i in range(r):\n",
        "    for j in range(c):\n",
        "        if Y[i,j]==1:\n",
        "            yy=np.append(yy,[int(j)])\n",
        "\n",
        "\n",
        "Y=yy.reshape(-1,1)\n",
        "# split data 80:20\n",
        "Xtrain,Xtest,Ytrain,Ytest=train_test_split(X, Y, test_size=0.2, random_state=0,stratify=Y )\n",
        "gnb_(Xtrain,Xtest,Ytrain,Ytest,10)\n",
        "# call gnb function on dataset a"
      ],
      "execution_count": null,
      "outputs": [
        {
          "output_type": "stream",
          "text": [
            "Accuracy for GNB=  63.92857142857142\n"
          ],
          "name": "stdout"
        }
      ]
    },
    {
      "cell_type": "code",
      "metadata": {
        "colab": {
          "base_uri": "https://localhost:8080/"
        },
        "id": "8e_Gy08r1U5Z",
        "outputId": "90315c21-e85d-4d3e-cb10-b9ac665f6082"
      },
      "source": [
        "\n",
        "# DATASET B reading file\n",
        "hf=h5py.File('part_B_train.h5','r')\n",
        "X=np.array(hf['X'])\n",
        "Y=np.array(hf['Y'])\n",
        "\n",
        "[r,c]=Y.shape\n",
        "yy=np.array([])\n",
        "for i in range(r):\n",
        "    for j in range(c):\n",
        "        if Y[i,j]==1:\n",
        "            yy=np.append(yy,[int(j)])\n",
        "\n",
        "\n",
        "Y=yy.reshape(-1,1)\n",
        "Xtrain,Xtest,Ytrain,Ytest=train_test_split(X, Y, test_size=0.2, random_state=0 )\n",
        "# call gnb function on dataset b\n",
        "gnb_(Xtrain,Xtest,Ytrain,Ytest,2)"
      ],
      "execution_count": null,
      "outputs": [
        {
          "output_type": "stream",
          "text": [
            "Accuracy for GNB=  56.42857142857143\n"
          ],
          "name": "stdout"
        }
      ]
    }
  ]
}