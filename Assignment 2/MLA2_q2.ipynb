{
  "nbformat": 4,
  "nbformat_minor": 0,
  "metadata": {
    "colab": {
      "name": "MLA2_q2.ipynb",
      "provenance": [],
      "collapsed_sections": []
    },
    "kernelspec": {
      "name": "python3",
      "display_name": "Python 3"
    },
    "accelerator": "GPU"
  },
  "cells": [
    {
      "cell_type": "code",
      "metadata": {
        "id": "YyFQqfVHzJsD"
      },
      "source": [
        "from google.colab import drive\n",
        "drive.mount('/content/drive/')"
      ],
      "execution_count": null,
      "outputs": []
    },
    {
      "cell_type": "code",
      "metadata": {
        "colab": {
          "base_uri": "https://localhost:8080/"
        },
        "id": "dykMl6cHzdQr",
        "outputId": "397ad804-feff-4848-c0b0-6052ed15d0a2"
      },
      "source": [
        "cd /content/drive/MyDrive/ML\\ assignment\\ 2"
      ],
      "execution_count": null,
      "outputs": [
        {
          "output_type": "stream",
          "text": [
            "/content/drive/MyDrive/ML assignment 2\n"
          ],
          "name": "stdout"
        }
      ]
    },
    {
      "cell_type": "code",
      "metadata": {
        "id": "B0fxGlBky7Z_"
      },
      "source": [
        "\n",
        "from copy import *\n",
        "from math import *\n",
        "import h5py\n",
        "import numpy as np\n",
        "import pandas as pd\n",
        "from sklearn.model_selection import train_test_split\n",
        "from sklearn.linear_model import LinearRegression\n",
        "from sklearn.utils import resample\n"
      ],
      "execution_count": null,
      "outputs": []
    },
    {
      "cell_type": "code",
      "metadata": {
        "colab": {
          "base_uri": "https://localhost:8080/"
        },
        "id": "Gv3O01jczISy",
        "outputId": "c6df7d4a-e054-409c-dadc-b54c6b356595"
      },
      "source": [
        "\n",
        "df = pd.read_csv('weight-height.csv') \n",
        "t1=np.array(df[\"Gender\"].values)\n",
        "t2=np.array(df[\"Height\"].values)\n",
        "t3=np.array(df[\"Weight\"].values)\n",
        "#reading input file into dataframe\n",
        "\n",
        "X=[]\n",
        "y=[]\n",
        "tt=np.array([])\n",
        "for i in range(len(t1)):\n",
        "    Z=np.array([float(t2[i]),float(t3[i])])\n",
        "    tt=np.append(tt,Z)\n",
        "tt=tt.reshape(len(tt)//2,2)\n",
        "np.random.seed(14) \n",
        "np.random.shuffle(tt)\n",
        "# shuffling dataset and removing gender column\n",
        "            \n",
        "for i in range(len(tt)):\n",
        "    Z=np.array([tt[i][0]])\n",
        "    X=np.append(X,Z)\n",
        "    Z=np.array([tt[i][1]])\n",
        "    y=np.append(y,Z)\n",
        "    \n",
        "X=X.reshape(len(X)//1,1)\n",
        "Y=y.reshape(-1,1)\n",
        "# reshaping dataset\n",
        "Xtrain,Xtest,Ytrain,Ytest=train_test_split(X,Y,test_size=0.2,random_state=1)\n",
        "\n",
        "\n",
        "lr=LinearRegression()\n",
        "# creating object of Linear Regression model\n",
        "YTEST_AVG=Ytest.mean()\n",
        "\n",
        "\n",
        "y_b=[]\n",
        "# creating len(Xtrain) number of samples\n",
        "for i in range(len(Xtrain)):\n",
        "    # resampling with replacement\n",
        "    boot_X,boot_Y=resample(Xtrain,Ytrain,replace=True,random_state=i)\n",
        "    \n",
        "    # fitting our linear regression model on sample\n",
        "    lr.fit(boot_X,boot_Y)\n",
        "\n",
        "    # predicting values of Xtest\n",
        "    Y_pred=lr.predict(Xtest)\n",
        "    y_b.append(Y_pred.mean())\n",
        "\n",
        "# calculating h_ by taking mean over all samples\n",
        "h_=sum(y_b)/len(y_b)\n",
        "# bias calculation\n",
        "Bias=h_-YTEST_AVG\n",
        "\n",
        "\n",
        "\n",
        "Variance=0\n",
        "for i in range(len(y_b)):\n",
        "    # calculating variance term\n",
        "    Variance+= (y_b[i]-h_)**2\n",
        "Variance=Variance/(len(y_b)-1)\n",
        "\n",
        "MSE=0\n",
        "for i in range(len(y_b)):\n",
        "    # calculating mse term\n",
        "    MSE+= (y_b[i]-YTEST_AVG)**2\n",
        "MSE=MSE/(len(y_b))\n",
        "\n",
        "\n",
        "\n",
        "print(\"Bias= \",Bias)\n",
        "print(\"Variance= \",Variance)\n",
        "print(\"MSE= \",MSE)\n",
        "print(\"MSE-Bias^2-Variance= \",MSE-(Bias**2)-Variance)\n",
        "# printing the output desired\n",
        "\n"
      ],
      "execution_count": null,
      "outputs": [
        {
          "output_type": "stream",
          "text": [
            "Bias=  -0.07968124077046923\n",
            "Variance=  0.01876223951924725\n",
            "MSE=  0.025108994369876843\n",
            "MSE-Bias^2-Variance=  -2.3452800918949412e-06\n"
          ],
          "name": "stdout"
        }
      ]
    }
  ]
}